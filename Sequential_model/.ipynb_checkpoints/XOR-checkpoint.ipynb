{
 "cells": [
  {
   "cell_type": "markdown",
   "metadata": {},
   "source": [
    "## XOR logic gate implement in keras "
   ]
  },
  {
   "cell_type": "markdown",
   "metadata": {},
   "source": [
    "#### Import the necessary package"
   ]
  },
  {
   "cell_type": "code",
   "execution_count": 34,
   "metadata": {},
   "outputs": [],
   "source": [
    "from keras.models import Sequential\n",
    "from keras.layers import Dense\n",
    "from keras.layers import Input\n",
    "from keras.optimizers import SGD\n",
    "\n",
    "import numpy as np"
   ]
  },
  {
   "cell_type": "markdown",
   "metadata": {},
   "source": [
    "#### load the dataset "
   ]
  },
  {
   "cell_type": "code",
   "execution_count": 35,
   "metadata": {},
   "outputs": [
    {
     "name": "stdout",
     "output_type": "stream",
     "text": [
      "x_train shape :(4, 2)    y_train_shape :(4,)\n"
     ]
    }
   ],
   "source": [
    "x_train = np.array([[0.,0.], [0.,1.],[1.,0.],[1.,1.]])\n",
    "y_train = np.array([0,1,1,0])\n",
    "\n",
    "print('x_train shape :' + str(x_train.shape)+'    '+ 'y_train_shape :' + str(y_train.shape))"
   ]
  },
  {
   "cell_type": "markdown",
   "metadata": {},
   "source": [
    "#### Select the model type"
   ]
  },
  {
   "cell_type": "code",
   "execution_count": 48,
   "metadata": {},
   "outputs": [],
   "source": [
    "model = Sequential()"
   ]
  },
  {
   "cell_type": "markdown",
   "metadata": {},
   "source": [
    "#### chose the model structure"
   ]
  },
  {
   "cell_type": "code",
   "execution_count": 49,
   "metadata": {},
   "outputs": [],
   "source": [
    "model.add(Dense(4,activation='relu',input_dim = 2 ))\n",
    "model.add(Dense(2,activation='relu'))\n",
    "model.add(Dense(1,activation='sigmoid'))"
   ]
  },
  {
   "cell_type": "code",
   "execution_count": 50,
   "metadata": {},
   "outputs": [
    {
     "name": "stdout",
     "output_type": "stream",
     "text": [
      "_________________________________________________________________\n",
      "Layer (type)                 Output Shape              Param #   \n",
      "=================================================================\n",
      "dense_18 (Dense)             (None, 4)                 12        \n",
      "_________________________________________________________________\n",
      "dense_19 (Dense)             (None, 2)                 10        \n",
      "_________________________________________________________________\n",
      "dense_20 (Dense)             (None, 1)                 3         \n",
      "=================================================================\n",
      "Total params: 25\n",
      "Trainable params: 25\n",
      "Non-trainable params: 0\n",
      "_________________________________________________________________\n",
      "None\n"
     ]
    }
   ],
   "source": [
    "print(model.summary())"
   ]
  },
  {
   "cell_type": "markdown",
   "metadata": {},
   "source": [
    "####  Complie the model"
   ]
  },
  {
   "cell_type": "code",
   "execution_count": 64,
   "metadata": {},
   "outputs": [],
   "source": [
    "model.compile(loss='mean_squared_error', optimizer=SGD(lr=0.1), metrics=['accuracy'])"
   ]
  },
  {
   "cell_type": "markdown",
   "metadata": {},
   "source": [
    "#### Train the model by use model.fit"
   ]
  },
  {
   "cell_type": "code",
   "execution_count": 66,
   "metadata": {},
   "outputs": [
    {
     "name": "stdout",
     "output_type": "stream",
     "text": [
      "Epoch 1/50\n",
      "4/4 [==============================] - 0s 20ms/step - loss: 0.1636 - acc: 0.7500\n",
      "Epoch 2/50\n",
      "4/4 [==============================] - 0s 13ms/step - loss: 0.1649 - acc: 0.7500\n",
      "Epoch 3/50\n",
      "4/4 [==============================] - 0s 10ms/step - loss: 0.1657 - acc: 0.7500\n",
      "Epoch 4/50\n",
      "4/4 [==============================] - 0s 9ms/step - loss: 0.1657 - acc: 0.7500\n",
      "Epoch 5/50\n",
      "4/4 [==============================] - 0s 13ms/step - loss: 0.1695 - acc: 0.7500\n",
      "Epoch 6/50\n",
      "4/4 [==============================] - 0s 9ms/step - loss: 0.1620 - acc: 0.7500\n",
      "Epoch 7/50\n",
      "4/4 [==============================] - 0s 13ms/step - loss: 0.1612 - acc: 0.7500\n",
      "Epoch 8/50\n",
      "4/4 [==============================] - 0s 11ms/step - loss: 0.1603 - acc: 0.7500\n",
      "Epoch 9/50\n",
      "4/4 [==============================] - 0s 7ms/step - loss: 0.1622 - acc: 0.7500\n",
      "Epoch 10/50\n",
      "4/4 [==============================] - 0s 10ms/step - loss: 0.1625 - acc: 0.7500\n",
      "Epoch 11/50\n",
      "4/4 [==============================] - 0s 13ms/step - loss: 0.1587 - acc: 0.7500\n",
      "Epoch 12/50\n",
      "4/4 [==============================] - 0s 12ms/step - loss: 0.1644 - acc: 0.7500\n",
      "Epoch 13/50\n",
      "4/4 [==============================] - 0s 12ms/step - loss: 0.1578 - acc: 0.7500\n",
      "Epoch 14/50\n",
      "4/4 [==============================] - 0s 12ms/step - loss: 0.1609 - acc: 0.7500\n",
      "Epoch 15/50\n",
      "4/4 [==============================] - 0s 14ms/step - loss: 0.1569 - acc: 0.7500\n",
      "Epoch 16/50\n",
      "4/4 [==============================] - 0s 16ms/step - loss: 0.1592 - acc: 0.7500\n",
      "Epoch 17/50\n",
      "4/4 [==============================] - 0s 8ms/step - loss: 0.1618 - acc: 0.7500\n",
      "Epoch 18/50\n",
      "4/4 [==============================] - 0s 12ms/step - loss: 0.1544 - acc: 0.7500\n",
      "Epoch 19/50\n",
      "4/4 [==============================] - 0s 10ms/step - loss: 0.1571 - acc: 0.7500\n",
      "Epoch 20/50\n",
      "4/4 [==============================] - 0s 8ms/step - loss: 0.1532 - acc: 0.7500\n",
      "Epoch 21/50\n",
      "4/4 [==============================] - 0s 15ms/step - loss: 0.1576 - acc: 0.7500\n",
      "Epoch 22/50\n",
      "4/4 [==============================] - 0s 8ms/step - loss: 0.1515 - acc: 0.7500\n",
      "Epoch 23/50\n",
      "4/4 [==============================] - 0s 11ms/step - loss: 0.1510 - acc: 0.7500\n",
      "Epoch 24/50\n",
      "4/4 [==============================] - 0s 9ms/step - loss: 0.1533 - acc: 0.7500\n",
      "Epoch 25/50\n",
      "4/4 [==============================] - 0s 8ms/step - loss: 0.1564 - acc: 0.7500\n",
      "Epoch 26/50\n",
      "4/4 [==============================] - 0s 13ms/step - loss: 0.1552 - acc: 0.7500\n",
      "Epoch 27/50\n",
      "4/4 [==============================] - 0s 11ms/step - loss: 0.1529 - acc: 0.7500\n",
      "Epoch 28/50\n",
      "4/4 [==============================] - 0s 8ms/step - loss: 0.1541 - acc: 0.7500\n",
      "Epoch 29/50\n",
      "4/4 [==============================] - 0s 8ms/step - loss: 0.1524 - acc: 0.7500\n",
      "Epoch 30/50\n",
      "4/4 [==============================] - 0s 10ms/step - loss: 0.1495 - acc: 0.7500\n",
      "Epoch 31/50\n",
      "4/4 [==============================] - 0s 12ms/step - loss: 0.1519 - acc: 0.7500\n",
      "Epoch 32/50\n",
      "4/4 [==============================] - 0s 10ms/step - loss: 0.1442 - acc: 0.7500\n",
      "Epoch 33/50\n",
      "4/4 [==============================] - 0s 8ms/step - loss: 0.1429 - acc: 0.7500\n",
      "Epoch 34/50\n",
      "4/4 [==============================] - 0s 11ms/step - loss: 0.1453 - acc: 0.7500\n",
      "Epoch 35/50\n",
      "4/4 [==============================] - 0s 18ms/step - loss: 0.1480 - acc: 0.7500\n",
      "Epoch 36/50\n",
      "4/4 [==============================] - 0s 13ms/step - loss: 0.1401 - acc: 1.0000\n",
      "Epoch 37/50\n",
      "4/4 [==============================] - 0s 8ms/step - loss: 0.1426 - acc: 1.0000\n",
      "Epoch 38/50\n",
      "4/4 [==============================] - 0s 19ms/step - loss: 0.1413 - acc: 0.7500\n",
      "Epoch 39/50\n",
      "4/4 [==============================] - 0s 12ms/step - loss: 0.1401 - acc: 0.7500\n",
      "Epoch 40/50\n",
      "4/4 [==============================] - 0s 12ms/step - loss: 0.1437 - acc: 1.0000\n",
      "Epoch 41/50\n",
      "4/4 [==============================] - 0s 14ms/step - loss: 0.1384 - acc: 1.0000\n",
      "Epoch 42/50\n",
      "4/4 [==============================] - 0s 11ms/step - loss: 0.1360 - acc: 1.0000\n",
      "Epoch 43/50\n",
      "4/4 [==============================] - 0s 12ms/step - loss: 0.1361 - acc: 0.7500\n",
      "Epoch 44/50\n",
      "4/4 [==============================] - 0s 9ms/step - loss: 0.1347 - acc: 1.0000\n",
      "Epoch 45/50\n",
      "4/4 [==============================] - 0s 11ms/step - loss: 0.1306 - acc: 1.0000\n",
      "Epoch 46/50\n",
      "4/4 [==============================] - 0s 9ms/step - loss: 0.1344 - acc: 1.0000\n",
      "Epoch 47/50\n",
      "4/4 [==============================] - 0s 11ms/step - loss: 0.1315 - acc: 1.0000\n",
      "Epoch 48/50\n",
      "4/4 [==============================] - 0s 12ms/step - loss: 0.1301 - acc: 1.0000\n",
      "Epoch 49/50\n",
      "4/4 [==============================] - 0s 7ms/step - loss: 0.1286 - acc: 1.0000\n",
      "Epoch 50/50\n",
      "4/4 [==============================] - 0s 9ms/step - loss: 0.1316 - acc: 1.0000\n"
     ]
    },
    {
     "data": {
      "text/plain": [
       "<keras.callbacks.History at 0x7f9de30cea90>"
      ]
     },
     "execution_count": 66,
     "metadata": {},
     "output_type": "execute_result"
    }
   ],
   "source": [
    "model.fit(x_train,y_train,epochs=50, batch_size=2)"
   ]
  },
  {
   "cell_type": "markdown",
   "metadata": {},
   "source": [
    "#### Test the model"
   ]
  },
  {
   "cell_type": "code",
   "execution_count": 93,
   "metadata": {},
   "outputs": [
    {
     "data": {
      "text/plain": [
       "array([[0],\n",
       "       [1],\n",
       "       [1],\n",
       "       [0]], dtype=int32)"
      ]
     },
     "execution_count": 93,
     "metadata": {},
     "output_type": "execute_result"
    }
   ],
   "source": [
    "Test = np.array([[0.4,0.4],   [0.4,1],  [1.5,.3], [1.2,0.8]])\n",
    "model.predict_classes( Test)"
   ]
  }
 ],
 "metadata": {
  "kernelspec": {
   "display_name": "Python 3",
   "language": "python",
   "name": "python3"
  },
  "language_info": {
   "codemirror_mode": {
    "name": "ipython",
    "version": 3
   },
   "file_extension": ".py",
   "mimetype": "text/x-python",
   "name": "python",
   "nbconvert_exporter": "python",
   "pygments_lexer": "ipython3",
   "version": "3.6.5"
  }
 },
 "nbformat": 4,
 "nbformat_minor": 2
}
